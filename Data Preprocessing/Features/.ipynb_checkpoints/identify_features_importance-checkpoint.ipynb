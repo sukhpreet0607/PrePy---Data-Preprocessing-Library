{
 "cells": [
  {
   "cell_type": "code",
   "execution_count": 1,
   "id": "50ac8638",
   "metadata": {},
   "outputs": [],
   "source": [
    "from sklearn.tree import DecisionTreeClassifier, ExtraTreeClassifier"
   ]
  },
  {
   "cell_type": "code",
   "execution_count": 2,
   "id": "a61e91f1",
   "metadata": {},
   "outputs": [],
   "source": [
    "def identify_features_importance(data, label_column, threshold): \n",
    "    ''' Identify most important features during a classification \n",
    "    return list of the most important features '''\n",
    "\n",
    "    features = data.drop([label_column], axis = 1)\n",
    "    labels = data[label_column]\n",
    "    \n",
    "    model = ExtraTreesClassifier()\n",
    "    model.fit(features, labels)\n",
    "    \n",
    "    # Get features importances in %\n",
    "    feature_importances = pd.DataFrame( columns = features.columns)\n",
    "    feature_importances_values = model.feature_importances_ *100\n",
    "    feature_importances.loc[len(feature_importances)] = feature_importances_values\n",
    "    \n",
    "    # Extaction of the most important features according to threshold : \n",
    "    for col in feature_importances:\n",
    "        if feature_importances.loc[0, col] < threshold:\n",
    "            feature_importances = feature_importances.drop([col], axis =1)\n",
    "\n",
    "    return feature_importances.columns"
   ]
  },
  {
   "cell_type": "code",
   "execution_count": 4,
   "id": "c14ad01c",
   "metadata": {},
   "outputs": [
    {
     "name": "stdout",
     "output_type": "stream",
     "text": [
      "      MSSubClass MSZoning  LotFrontage  LotArea Street Alley LotShape  \\\n",
      "Id                                                                      \n",
      "1242          20       RL         83.0     9849   Pave   NaN      Reg   \n",
      "1233          90       RL         70.0     9842   Pave   NaN      Reg   \n",
      "1401          50       RM         50.0     6000   Pave   NaN      Reg   \n",
      "1377          30       RL         52.0     6292   Pave   NaN      Reg   \n",
      "208           20       RL          NaN    12493   Pave   NaN      IR1   \n",
      "...          ...      ...          ...      ...    ...   ...      ...   \n",
      "1190          60       RL         60.0     7500   Pave   NaN      Reg   \n",
      "192           60       RL          NaN     7472   Pave   NaN      IR1   \n",
      "990           60       FV         65.0     8125   Pave   NaN      Reg   \n",
      "982           60       RL         98.0    12203   Pave   NaN      IR1   \n",
      "862          190       RL         75.0    11625   Pave   NaN      Reg   \n",
      "\n",
      "     LandContour Utilities LotConfig  ... PoolArea PoolQC Fence MiscFeature  \\\n",
      "Id                                    ...                                     \n",
      "1242         Lvl    AllPub    Inside  ...        0    NaN   NaN         NaN   \n",
      "1233         Lvl    AllPub       FR2  ...        0    NaN   NaN         NaN   \n",
      "1401         Lvl    AllPub    Corner  ...        0    NaN   NaN         NaN   \n",
      "1377         Bnk    AllPub    Inside  ...        0    NaN   NaN         NaN   \n",
      "208          Lvl    AllPub    Inside  ...        0    NaN  GdWo         NaN   \n",
      "...          ...       ...       ...  ...      ...    ...   ...         ...   \n",
      "1190         Lvl    AllPub    Inside  ...        0    NaN   NaN         NaN   \n",
      "192          Lvl    AllPub   CulDSac  ...        0    NaN   NaN         NaN   \n",
      "990          Lvl    AllPub    Inside  ...        0    NaN   NaN         NaN   \n",
      "982          Lvl    AllPub    Corner  ...        0    NaN   NaN         NaN   \n",
      "862          Lvl    AllPub    Inside  ...        0    NaN   NaN         NaN   \n",
      "\n",
      "     MiscVal MoSold  YrSold  SaleType  SaleCondition  SalePrice  \n",
      "Id                                                               \n",
      "1242       0      6    2007       New        Partial     248328  \n",
      "1233       0      3    2007        WD         Normal     101800  \n",
      "1401       0      7    2008        WD         Normal     120000  \n",
      "1377       0      4    2008        WD         Normal      91000  \n",
      "208        0      4    2008        WD         Normal     141000  \n",
      "...      ...    ...     ...       ...            ...        ...  \n",
      "1190       0      6    2010        WD         Normal     189000  \n",
      "192        0      6    2007        WD         Normal     184000  \n",
      "990        0      8    2006       New        Partial     197000  \n",
      "982        0      7    2009        WD         Normal     336000  \n",
      "862        0      4    2010        WD         Normal     131500  \n",
      "\n",
      "[1000 rows x 80 columns]\n"
     ]
    },
    {
     "ename": "NameError",
     "evalue": "name 'ExtraTreesClassifier' is not defined",
     "output_type": "error",
     "traceback": [
      "\u001b[1;31m---------------------------------------------------------------------------\u001b[0m",
      "\u001b[1;31mNameError\u001b[0m                                 Traceback (most recent call last)",
      "\u001b[1;32m~\\AppData\\Local\\Temp/ipykernel_7144/1510367277.py\u001b[0m in \u001b[0;36m<module>\u001b[1;34m\u001b[0m\n\u001b[0;32m      8\u001b[0m \u001b[0mprint\u001b[0m \u001b[1;33m(\u001b[0m\u001b[0mdata\u001b[0m\u001b[1;33m)\u001b[0m\u001b[1;33m\u001b[0m\u001b[1;33m\u001b[0m\u001b[0m\n\u001b[0;32m      9\u001b[0m \u001b[1;33m\u001b[0m\u001b[0m\n\u001b[1;32m---> 10\u001b[1;33m \u001b[0mprint\u001b[0m \u001b[1;33m(\u001b[0m\u001b[0midentify_features_importance\u001b[0m\u001b[1;33m(\u001b[0m\u001b[0mdata\u001b[0m\u001b[1;33m,\u001b[0m\u001b[1;34m\"LotFrontage\"\u001b[0m\u001b[1;33m,\u001b[0m\u001b[1;36m50\u001b[0m\u001b[1;33m)\u001b[0m\u001b[1;33m)\u001b[0m\u001b[1;33m\u001b[0m\u001b[1;33m\u001b[0m\u001b[0m\n\u001b[0m",
      "\u001b[1;32m~\\AppData\\Local\\Temp/ipykernel_7144/1066142865.py\u001b[0m in \u001b[0;36midentify_features_importance\u001b[1;34m(data, label_column, threshold)\u001b[0m\n\u001b[0;32m      6\u001b[0m     \u001b[0mlabels\u001b[0m \u001b[1;33m=\u001b[0m \u001b[0mdata\u001b[0m\u001b[1;33m[\u001b[0m\u001b[0mlabel_column\u001b[0m\u001b[1;33m]\u001b[0m\u001b[1;33m\u001b[0m\u001b[1;33m\u001b[0m\u001b[0m\n\u001b[0;32m      7\u001b[0m \u001b[1;33m\u001b[0m\u001b[0m\n\u001b[1;32m----> 8\u001b[1;33m     \u001b[0mmodel\u001b[0m \u001b[1;33m=\u001b[0m \u001b[0mExtraTreesClassifier\u001b[0m\u001b[1;33m(\u001b[0m\u001b[1;33m)\u001b[0m\u001b[1;33m\u001b[0m\u001b[1;33m\u001b[0m\u001b[0m\n\u001b[0m\u001b[0;32m      9\u001b[0m     \u001b[0mmodel\u001b[0m\u001b[1;33m.\u001b[0m\u001b[0mfit\u001b[0m\u001b[1;33m(\u001b[0m\u001b[0mfeatures\u001b[0m\u001b[1;33m,\u001b[0m \u001b[0mlabels\u001b[0m\u001b[1;33m)\u001b[0m\u001b[1;33m\u001b[0m\u001b[1;33m\u001b[0m\u001b[0m\n\u001b[0;32m     10\u001b[0m \u001b[1;33m\u001b[0m\u001b[0m\n",
      "\u001b[1;31mNameError\u001b[0m: name 'ExtraTreesClassifier' is not defined"
     ]
    }
   ],
   "source": [
    "import pandas as pd \n",
    "\n",
    "def load_data(path): \n",
    "    data = pd.read_csv(path, index_col = 0)\n",
    "    return data\n",
    "\n",
    "data = load_data(\"house-prices.csv\")\n",
    "print (data)\n",
    "\n",
    "print (identify_features_importance(data,\"LotFrontage\",50))"
   ]
  },
  {
   "cell_type": "code",
   "execution_count": null,
   "id": "4862ae04",
   "metadata": {},
   "outputs": [],
   "source": []
  }
 ],
 "metadata": {
  "kernelspec": {
   "display_name": "Python 3 (ipykernel)",
   "language": "python",
   "name": "python3"
  },
  "language_info": {
   "codemirror_mode": {
    "name": "ipython",
    "version": 3
   },
   "file_extension": ".py",
   "mimetype": "text/x-python",
   "name": "python",
   "nbconvert_exporter": "python",
   "pygments_lexer": "ipython3",
   "version": "3.9.6"
  }
 },
 "nbformat": 4,
 "nbformat_minor": 5
}
