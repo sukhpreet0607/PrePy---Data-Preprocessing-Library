{
 "cells": [
  {
   "cell_type": "code",
   "execution_count": 6,
   "id": "5eff65e7",
   "metadata": {},
   "outputs": [],
   "source": [
    "def identify_single_value_features(data): \n",
    "    ''' Identify features with single value \n",
    "    return a list of features '''  \n",
    "    \n",
    "    # Count unique values for each feature\n",
    "    unique = data.nunique()\n",
    "    unique = pd.DataFrame(unique).reset_index().rename(columns = {'index' : 'features', 0 :'nb_unique_values'})\n",
    "    \n",
    "    single_value_feature = []\n",
    "    for i in range(len(unique)): \n",
    "        if unique.loc[i, 'nb_unique_values'] == 1 : \n",
    "            single_value_feature.append(unique.loc[i])\n",
    "        \n",
    "    return single_value_feature"
   ]
  },
  {
   "cell_type": "code",
   "execution_count": 7,
   "id": "87ccc862",
   "metadata": {},
   "outputs": [
    {
     "name": "stdout",
     "output_type": "stream",
     "text": [
      "      MSSubClass MSZoning  LotFrontage  LotArea Street Alley LotShape  \\\n",
      "Id                                                                      \n",
      "1242          20       RL         83.0     9849   Pave   NaN      Reg   \n",
      "1233          90       RL         70.0     9842   Pave   NaN      Reg   \n",
      "1401          50       RM         50.0     6000   Pave   NaN      Reg   \n",
      "1377          30       RL         52.0     6292   Pave   NaN      Reg   \n",
      "208           20       RL          NaN    12493   Pave   NaN      IR1   \n",
      "...          ...      ...          ...      ...    ...   ...      ...   \n",
      "1190          60       RL         60.0     7500   Pave   NaN      Reg   \n",
      "192           60       RL          NaN     7472   Pave   NaN      IR1   \n",
      "990           60       FV         65.0     8125   Pave   NaN      Reg   \n",
      "982           60       RL         98.0    12203   Pave   NaN      IR1   \n",
      "862          190       RL         75.0    11625   Pave   NaN      Reg   \n",
      "\n",
      "     LandContour Utilities LotConfig  ... PoolArea PoolQC Fence MiscFeature  \\\n",
      "Id                                    ...                                     \n",
      "1242         Lvl    AllPub    Inside  ...        0    NaN   NaN         NaN   \n",
      "1233         Lvl    AllPub       FR2  ...        0    NaN   NaN         NaN   \n",
      "1401         Lvl    AllPub    Corner  ...        0    NaN   NaN         NaN   \n",
      "1377         Bnk    AllPub    Inside  ...        0    NaN   NaN         NaN   \n",
      "208          Lvl    AllPub    Inside  ...        0    NaN  GdWo         NaN   \n",
      "...          ...       ...       ...  ...      ...    ...   ...         ...   \n",
      "1190         Lvl    AllPub    Inside  ...        0    NaN   NaN         NaN   \n",
      "192          Lvl    AllPub   CulDSac  ...        0    NaN   NaN         NaN   \n",
      "990          Lvl    AllPub    Inside  ...        0    NaN   NaN         NaN   \n",
      "982          Lvl    AllPub    Corner  ...        0    NaN   NaN         NaN   \n",
      "862          Lvl    AllPub    Inside  ...        0    NaN   NaN         NaN   \n",
      "\n",
      "     MiscVal MoSold  YrSold  SaleType  SaleCondition  SalePrice  \n",
      "Id                                                               \n",
      "1242       0      6    2007       New        Partial     248328  \n",
      "1233       0      3    2007        WD         Normal     101800  \n",
      "1401       0      7    2008        WD         Normal     120000  \n",
      "1377       0      4    2008        WD         Normal      91000  \n",
      "208        0      4    2008        WD         Normal     141000  \n",
      "...      ...    ...     ...       ...            ...        ...  \n",
      "1190       0      6    2010        WD         Normal     189000  \n",
      "192        0      6    2007        WD         Normal     184000  \n",
      "990        0      8    2006       New        Partial     197000  \n",
      "982        0      7    2009        WD         Normal     336000  \n",
      "862        0      4    2010        WD         Normal     131500  \n",
      "\n",
      "[1000 rows x 80 columns]\n",
      "[features            PoolArea\n",
      "nb_unique_values           1\n",
      "Name: 70, dtype: object, features            MiscFeature\n",
      "nb_unique_values              1\n",
      "Name: 73, dtype: object]\n"
     ]
    }
   ],
   "source": [
    "import pandas as pd \n",
    "\n",
    "def load_data(path): \n",
    "    data = pd.read_csv(path, index_col = 0)\n",
    "    return data\n",
    "\n",
    "data = load_data(\"house-prices.csv\")\n",
    "print (data)\n",
    "\n",
    "print (identify_single_value_features(data))"
   ]
  },
  {
   "cell_type": "code",
   "execution_count": null,
   "id": "1788c556",
   "metadata": {},
   "outputs": [],
   "source": []
  }
 ],
 "metadata": {
  "kernelspec": {
   "display_name": "Python 3 (ipykernel)",
   "language": "python",
   "name": "python3"
  },
  "language_info": {
   "codemirror_mode": {
    "name": "ipython",
    "version": 3
   },
   "file_extension": ".py",
   "mimetype": "text/x-python",
   "name": "python",
   "nbconvert_exporter": "python",
   "pygments_lexer": "ipython3",
   "version": "3.9.6"
  }
 },
 "nbformat": 4,
 "nbformat_minor": 5
}
