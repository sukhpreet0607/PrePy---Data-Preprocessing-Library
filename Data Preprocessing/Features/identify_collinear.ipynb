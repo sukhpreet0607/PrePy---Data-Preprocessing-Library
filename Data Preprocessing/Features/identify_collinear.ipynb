{
 "cells": [
  {
   "cell_type": "code",
   "execution_count": 2,
   "id": "340be87b",
   "metadata": {},
   "outputs": [],
   "source": [
    "import numpy as np \n",
    "import pandas as pd "
   ]
  },
  {
   "cell_type": "code",
   "execution_count": 5,
   "id": "327c2038",
   "metadata": {},
   "outputs": [],
   "source": [
    "def identify_collinear(data, corr_threshold):\n",
    "    ''' Identify the most correlated features\n",
    "    Return dataframe with correlated features '''\n",
    "\n",
    "    # Correlation matrix\n",
    "    corr = data.corr()\n",
    "\n",
    "    # Extraction of the upper triangle of the correlation matrix \n",
    "    upper = corr.where(np.triu(np.ones(corr.shape), k = 1).astype(bool))\n",
    "\n",
    "    # Features with correlation > corr_threshold\n",
    "    features_to_drop = [column for column in upper.columns if any(upper[column].abs() > corr_threshold)]\n",
    "    print(features_to_drop)\n",
    "\n",
    "    # Datafame with pairs of correlated features \n",
    "    collinear = pd.DataFrame(columns = ['drop_feature', 'corr_feature', 'corr_value'])\n",
    " \n",
    "    for col in features_to_drop:\n",
    "        # In upper, we get for each features_to_drop, the correlated features and we save the pair in collinear dataframe \n",
    "\n",
    "        # correlated features to features_to_drop  \n",
    "        corr_features = list(upper.index[upper[col].abs() > corr_threshold])\n",
    "\n",
    "        # Values \n",
    "        corr_values = list(upper[col][upper[col].abs() > corr_threshold])\n",
    "        \n",
    "        # Get drop_features\n",
    "        drop_features = [col for _ in range(len(corr_features))]\n",
    "        \n",
    "        # extraction \n",
    "        temp_df = pd.DataFrame.from_dict({'drop_feature' : drop_features,'corr_feature' : corr_features, 'corr_value': corr_values})\n",
    "        \n",
    "        collinear = collinear.append(temp_df, ignore_index = True)\n",
    "    \n",
    "    return collinear"
   ]
  },
  {
   "cell_type": "code",
   "execution_count": 4,
   "id": "55083405",
   "metadata": {},
   "outputs": [
    {
     "name": "stdout",
     "output_type": "stream",
     "text": [
      "[]\n",
      "Empty DataFrame\n",
      "Columns: [drop_feature, corr_feature, corr_value]\n",
      "Index: []\n"
     ]
    }
   ],
   "source": [
    "import pandas as pd \n",
    "\n",
    "def load_data(path): \n",
    "    data = pd.read_csv(path, index_col = 0)\n",
    "    return data\n",
    "\n",
    "data = load_data(\"house-prices.csv\")\n",
    "# print (data)\n",
    "\n",
    "print (identify_collinear(data,50))\n"
   ]
  },
  {
   "cell_type": "code",
   "execution_count": null,
   "id": "cc657ee4",
   "metadata": {},
   "outputs": [],
   "source": []
  }
 ],
 "metadata": {
  "kernelspec": {
   "display_name": "Python 3 (ipykernel)",
   "language": "python",
   "name": "python3"
  },
  "language_info": {
   "codemirror_mode": {
    "name": "ipython",
    "version": 3
   },
   "file_extension": ".py",
   "mimetype": "text/x-python",
   "name": "python",
   "nbconvert_exporter": "python",
   "pygments_lexer": "ipython3",
   "version": "3.9.6"
  }
 },
 "nbformat": 4,
 "nbformat_minor": 5
}
